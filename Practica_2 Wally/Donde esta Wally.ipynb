{
 "cells": [
  {
   "cell_type": "markdown",
   "id": "cda89a0d",
   "metadata": {},
   "source": [
    "# PRUEBA DE WALLY\n"
   ]
  },
  {
   "cell_type": "code",
   "execution_count": 1,
   "id": "9729aad1",
   "metadata": {},
   "outputs": [],
   "source": [
    "import numpy as np\n",
    "import cv2 as cv\n",
    "import os\n",
    "\n",
    "# Carga la imagen desde una ruta específica\n",
    "image = cv.imread(r\"E:/ITM_9_IA/Practica_2 (Wally)/pruebas/wally_v2.png\")\n",
    "\n",
    "# Convierte la imagen de color (BGR) a escala de grises\n",
    "gray = cv.cvtColor(image, cv.COLOR_BGR2GRAY)\n",
    "\n",
    "# Carga el clasificador en cascada preentrenado desde un archivo XML\n",
    "wally = cv.CascadeClassifier(r\"E:/ITM_9_IA/Practica_2 (Wally)/modelo/classifier/cascade.xml\")\n",
    "\n",
    "# Detecta objetos en la imagen en escala de grises\n",
    "# scaleFactor: cuánto se reduce el tamaño de la imagen en cada escala\n",
    "# minNeighbors: cuántos vecinos se deben considerar para una detección válida\n",
    "# minSize: tamaño mínimo del objeto a detectar\n",
    "waldo_detections = wally.detectMultiScale(gray, scaleFactor=1.9, minNeighbors=3, minSize=(50, 50))\n",
    "\n",
    "# Itera sobre las coordenadas de las detecciones\n",
    "for (x, y, w, h) in waldo_detections:\n",
    "    # Dibuja un rectángulo alrededor de cada detección\n",
    "    # (x, y) es la esquina superior izquierda y (x+w, y+h) es la esquina inferior derecha\n",
    "    # El color del rectángulo es verde (0, 255, 0) y el grosor es 2 píxeles\n",
    "    cv.rectangle(image, (x, y), (x+w, y+h), (0, 255, 0), 2)\n",
    "    \n",
    "    # Añade el texto 'Wally' encima de cada rectángulo\n",
    "    # La posición del texto es (x, y-10) para colocar el texto justo encima del rectángulo\n",
    "    # La fuente es FONT_HERSHEY_SIMPLEX, el tamaño del texto es 0.9, el color es verde (0, 255, 0) y el grosor es 2 píxeles\n",
    "    cv.putText(image, 'Wally', (x, y-10), cv.FONT_HERSHEY_SIMPLEX, 0.9, (0, 255, 0), 2)\n",
    "\n",
    "# Muestra la imagen resultante en una ventana titulada '¿Donde esta Wally?'\n",
    "cv.imshow('¿Donde esta Wally?', image)\n",
    "\n",
    "# Espera indefinidamente a que se presione una tecla\n",
    "cv.waitKey(0)\n",
    "\n",
    "# Cierra todas las ventanas abiertas por OpenCV\n",
    "cv.destroyAllWindows()\n"
   ]
  }
 ],
 "metadata": {
  "kernelspec": {
   "display_name": "Python 3 (ipykernel)",
   "language": "python",
   "name": "python3"
  },
  "language_info": {
   "codemirror_mode": {
    "name": "ipython",
    "version": 3
   },
   "file_extension": ".py",
   "mimetype": "text/x-python",
   "name": "python",
   "nbconvert_exporter": "python",
   "pygments_lexer": "ipython3",
   "version": "3.8.19"
  }
 },
 "nbformat": 4,
 "nbformat_minor": 5
}
